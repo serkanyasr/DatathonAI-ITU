{
 "cells": [
  {
   "cell_type": "markdown",
   "metadata": {},
   "source": [
    "## Data Description\n",
    "This competition involves classifying street-level images from three major Turkish cities using Google Street View data.\n",
    "\n",
    "---\n",
    "\n",
    "## Dataset Overview\n",
    "The dataset consists of street view images from **Istanbul**, **Izmir**, and **Ankara**, with approximately equal distribution among the cities. All images are captured from notable/recognizable areas within each city.\n",
    "\n",
    "---\n",
    "\n",
    "## Files\n",
    "- **`train/`** - Directory containing training images  \n",
    "- **`test/`** - Directory containing test images  \n",
    "- **`train.csv`** - Training labels and file mappings  \n",
    "- **`test.csv`** - Test file mappings (unlabeled)  \n",
    "\n",
    "---\n",
    "\n",
    "## Image Specifications\n",
    "All images in both train and test sets share the following specifications:  \n",
    "- **Resolution**: 640x640 pixels  \n",
    "- **Pitch**: 20 degrees upward  \n",
    "- **Field of View (FOV)**: 75 degrees  \n",
    "- **Format**: JPG  \n",
    "- **Type**: Outdoor scenes  \n",
    "- **Source**: Google Street View  \n",
    "\n",
    "---\n",
    "\n",
    "## File Descriptions\n",
    "\n",
    "### `train.csv`\n",
    "Contains two columns:  \n",
    "- `filename` - Name of the image file in the `train/` directory  \n",
    "- `city` - Label indicating the city (**Istanbul**, **Izmir**, or **Ankara**)  \n",
    "\n",
    "### `test.csv`\n",
    "Contains two columns:  \n",
    "- `filename` - Name of the image file in the `test/` directory  \n",
    "- `city` - Empty column to be predicted  \n"
   ]
  },
  {
   "cell_type": "markdown",
   "metadata": {},
   "source": [
    "## Importing Libraries\n",
    "This section includes all necessary libraries for data processing, visualization, and deep learning model development.\n",
    "\n",
    "### Libraries for Data Processing\n",
    "- **numpy**: Numerical operations.\n",
    "- **pandas**: Data manipulation and analysis.\n",
    "- **os**: File and directory handling.\n",
    "- **cv2 (OpenCV)**: Image processing and computer vision tasks.\n",
    "\n",
    "### Libraries for Visualization\n",
    "- **matplotlib.pyplot**: Data and image visualization.\n",
    "\n",
    "### Libraries for Machine Learning\n",
    "- **sklearn.preprocessing.LabelEncoder**: Encoding target labels.\n",
    "- **sklearn.model_selection.train_test_split**: Splitting the dataset into training and testing sets.\n",
    "\n",
    "### Libraries for Deep Learning\n",
    "- **keras.layers**: Includes layers like Dense, Dropout, GlobalAveragePooling2D for model architecture.\n",
    "- **tensorflow.keras.applications.EfficientNetV2S**: Pre-trained EfficientNetV2S model for transfer learning.\n",
    "- **tensorflow.keras.models**: To define and manage models (`Model`, `Sequential`).\n",
    "- **tensorflow.keras.optimizers.Adam**: Optimization algorithm.\n",
    "- **tensorflow.keras.callbacks**: Callbacks like `EarlyStopping` and `ReduceLROnPlateau` for optimizing training.\n",
    "- **tensorflow.keras.regularizers**: To add regularization to the model.\n",
    "\n",
    "EfficientNetV2S, an advanced pre-trained model, is employed for feature extraction and classification.\n"
   ]
  },
  {
   "cell_type": "code",
   "execution_count": 6,
   "metadata": {
    "execution": {
     "iopub.execute_input": "2024-12-15T14:17:37.798242Z",
     "iopub.status.busy": "2024-12-15T14:17:37.797901Z",
     "iopub.status.idle": "2024-12-15T14:17:50.421699Z",
     "shell.execute_reply": "2024-12-15T14:17:50.420744Z",
     "shell.execute_reply.started": "2024-12-15T14:17:37.798211Z"
    },
    "trusted": true
   },
   "outputs": [],
   "source": [
    "import numpy as np\n",
    "import pandas as pd\n",
    "import cv2\n",
    "import os\n",
    "import matplotlib.pyplot as plt\n",
    "from sklearn.preprocessing import LabelEncoder\n",
    "from sklearn.model_selection import train_test_split\n",
    "from keras.layers import Dense, Dropout, GlobalAveragePooling2D\n",
    "from keras.utils import to_categorical\n",
    "import tensorflow as tf\n",
    "from tensorflow.keras.applications import EfficientNetV2S\n",
    "from tensorflow.keras.models import Model , Sequential\n",
    "from tensorflow.keras.optimizers import Adam\n",
    "from tensorflow.keras.callbacks import EarlyStopping, ReduceLROnPlateau\n",
    "from tensorflow.keras import layers, models\n",
    "from tensorflow.keras import regularizers \n",
    "from tensorflow import keras\n"
   ]
  },
  {
   "cell_type": "markdown",
   "metadata": {},
   "source": [
    "## Data Processing and Image Loading\n",
    "\n",
    "1. **Define Data Path**: Specify the path to the training `.csv` file.\n",
    "2. **Load CSV**: Read the dataset into a pandas DataFrame.\n",
    "3. **Initialize Lists**: Create `images` and `labels` to store processed data.\n",
    "4. **Process Images**: \n",
    "   - Check if files exist and load them.\n",
    "   - Resize images to **520x520 pixels**.\n",
    "   - Append processed images and labels to the lists.\n",
    "5. **Convert to Numpy**: Transform lists into numpy arrays for model training."
   ]
  },
  {
   "cell_type": "code",
   "execution_count": 4,
   "metadata": {
    "execution": {
     "iopub.execute_input": "2024-12-15T14:17:50.423686Z",
     "iopub.status.busy": "2024-12-15T14:17:50.423158Z",
     "iopub.status.idle": "2024-12-15T14:18:25.783291Z",
     "shell.execute_reply": "2024-12-15T14:18:25.782594Z",
     "shell.execute_reply.started": "2024-12-15T14:17:50.423655Z"
    },
    "trusted": true
   },
   "outputs": [],
   "source": [
    "\n",
    "# Veri seti yolunu tanımlayın\n",
    "train_data_path = \"/kaggle/input/datathon-ai-qualification-round/train_data.csv\"\n",
    "\n",
    "# Veriyi yükleyin\n",
    "train_data = pd.read_csv(train_data_path)\n",
    "\n",
    "# Görseller ve etiketler için listeler oluşturun\n",
    "images = []\n",
    "labels = []\n",
    "\n",
    "# Veriyi iterasyonla işleyin\n",
    "for index, row in train_data.iterrows():\n",
    "    img_path = os.path.join(\"/kaggle/input/datathon-ai-qualification-round/train/train\", row['filename'])\n",
    "    \n",
    "    if not os.path.exists(img_path):\n",
    "        print(f\"Dosya bulunamadı: {img_path}\")  # Hata mesajı\n",
    "        continue\n",
    "    \n",
    "    img = cv2.imread(img_path)\n",
    "    if img is None:\n",
    "        print(f\"Resim açılamadı: {img_path}\")  # Resim açılmadıysa hata mesajı\n",
    "        continue\n",
    "\n",
    "    # Resmi yeniden boyutlandırın\n",
    "    img = cv2.resize(img, (520, 520))\n",
    "    images.append(img)\n",
    "    labels.append(row['city'])\n",
    "\n",
    "# Listeleri numpy array'e dönüştürün\n",
    "images = np.array(images)\n",
    "labels = np.array(labels)\n"
   ]
  },
  {
   "cell_type": "markdown",
   "metadata": {},
   "source": [
    "## Data Preparation for Model Training\n",
    "\n",
    "1. **Label Encoding**: \n",
    "   - Convert string labels to integer values using `LabelEncoder`.\n",
    "   - Perform one-hot encoding to prepare labels for multi-class classification.\n",
    "\n",
    "2. **Train-Test Split**: \n",
    "   - Split the dataset into training and validation sets using an 80-20 split.\n",
    "\n",
    "3. **Dataset Creation**:\n",
    "   - Use TensorFlow's **`tf.data.Dataset`** to create datasets for training and validation.\n",
    "   - **Training Dataset**: Batched with size 64 and shuffled with a buffer size of 1000.\n",
    "   - **Validation Dataset**: Batched with size 64, without shuffling.\n"
   ]
  },
  {
   "cell_type": "code",
   "execution_count": 5,
   "metadata": {
    "execution": {
     "iopub.execute_input": "2024-12-15T14:18:25.784461Z",
     "iopub.status.busy": "2024-12-15T14:18:25.784236Z",
     "iopub.status.idle": "2024-12-15T14:18:41.047313Z",
     "shell.execute_reply": "2024-12-15T14:18:41.046597Z",
     "shell.execute_reply.started": "2024-12-15T14:18:25.784438Z"
    },
    "trusted": true
   },
   "outputs": [],
   "source": [
    "\n",
    "label_encoder = LabelEncoder()\n",
    "labels_encoded = label_encoder.fit_transform(labels)  # String -> Integer\n",
    "num_classes = len(label_encoder.classes_)  # Sınıf sayısı\n",
    "\n",
    "# One-Hot Encoding\n",
    "labels_one_hot = to_categorical(labels_encoded, num_classes)\n",
    "\n",
    "X_train, X_val, y_train, y_val = train_test_split(images, labels_one_hot, test_size=0.2, random_state=42)\n",
    "\n",
    "\n",
    "train_dataset = tf.data.Dataset.from_tensor_slices((X_train, y_train))\n",
    "train_dataset = train_dataset.batch(64).shuffle(buffer_size=1000)  # Her batch'te 64 örnek, shuffle için buffer size 1000\n",
    "\n",
    "# Doğrulama veri seti: Sadece batch'leme uygulanır, shuffle gerekmez.\n",
    "val_dataset = tf.data.Dataset.from_tensor_slices((X_val, y_val))\n",
    "val_dataset = val_dataset.batch(64)\n"
   ]
  },
  {
   "cell_type": "markdown",
   "metadata": {},
   "source": [
    "## Data Augmentation and Dataset Preparation\n",
    "\n",
    "### 1. **Data Augmentation Function**\n",
    "- **Purpose**: Enhance training data by applying random transformations.\n",
    "- **Transformations**:\n",
    "  - **Cropping and Resizing**: Random cropping and scaling with padding to maintain dimensions.\n",
    "  - **Flipping**: Random horizontal flipping.\n",
    "  - **Brightness Adjustment**: Random changes in image brightness.\n",
    "  - **Contrast Adjustment**: Random modifications to image contrast.\n",
    "  - **Hue Adjustment**: Random alterations to image hue.\n",
    "\n",
    "### 2. **Training Dataset**\n",
    "- Create a TensorFlow dataset from training data.\n",
    "- **Steps**:\n",
    "  - Shuffle the dataset with a buffer size of 1000.\n",
    "  - Apply the augmentation function using `map` with parallel calls for performance optimization.\n",
    "  - Batch the data with a size of 64.\n",
    "  - Prefetch batches to improve input pipeline efficiency.\n",
    "\n",
    "### 3. **Validation Dataset**\n",
    "- Create a TensorFlow dataset from validation data.\n",
    "- **Steps**:\n",
    "  - Batch the data with a size of 64.\n",
    "  - Prefetch batches for efficient data loading.\n"
   ]
  },
  {
   "cell_type": "code",
   "execution_count": 6,
   "metadata": {
    "_kg_hide-input": false,
    "execution": {
     "iopub.execute_input": "2024-12-15T14:18:41.049294Z",
     "iopub.status.busy": "2024-12-15T14:18:41.049005Z",
     "iopub.status.idle": "2024-12-15T14:18:55.520740Z",
     "shell.execute_reply": "2024-12-15T14:18:55.519730Z",
     "shell.execute_reply.started": "2024-12-15T14:18:41.049266Z"
    },
    "trusted": true
   },
   "outputs": [],
   "source": [
    "def augment(image, label):\n",
    "    seed = tf.random.uniform([2], minval=0, maxval=int(1e6), dtype=tf.int32)\n",
    "    \n",
    "    # Kırpma ve yeniden boyutlandırma (Başta yapılmalı)\n",
    "    image = tf.image.random_crop(image, size=[520, 520, 3])\n",
    "    scales = tf.random.uniform([], minval=0.9, maxval=1.1)\n",
    "    new_height = tf.cast(520 * scales, tf.int32)\n",
    "    new_width = tf.cast(520 * scales, tf.int32)\n",
    "    image = tf.image.resize(image, [new_height, new_width])\n",
    "    image = tf.image.resize_with_crop_or_pad(image, 520, 520)\n",
    "    \n",
    "    # Diğer augmentasyonlar\n",
    "    image = tf.image.stateless_random_flip_left_right(image, seed=seed)\n",
    "    image = tf.image.stateless_random_brightness(image, max_delta=0.1, seed=seed)\n",
    "    image = tf.image.stateless_random_contrast(image, lower=0.9, upper=1.1, seed=seed)\n",
    "    image = tf.image.stateless_random_hue(image, max_delta=0.05, seed=seed)\n",
    "\n",
    "    return image, label\n",
    "\n",
    "# Eğitim veri seti: Veriler gruplar halinde işlenir (batch). Karışıklık (shuffle) eklenir.\n",
    "train_dataset = tf.data.Dataset.from_tensor_slices((X_train, y_train))\n",
    "train_dataset = (\n",
    "    train_dataset\n",
    "    .shuffle(buffer_size=1000)\n",
    "    .map(augment, num_parallel_calls=tf.data.AUTOTUNE)  # Augmentasyon\n",
    "    .batch(64)  # Batch\n",
    "    .prefetch(tf.data.AUTOTUNE)\n",
    ")\n",
    "\n",
    "# Doğrulama veri seti: Sadece batch'leme uygulanır, shuffle gerekmez.\n",
    "val_dataset = tf.data.Dataset.from_tensor_slices((X_val, y_val))\n",
    "val_dataset = (\n",
    "    val_dataset\n",
    "    .batch(64)\n",
    "    .prefetch(tf.data.AUTOTUNE)\n",
    ")"
   ]
  },
  {
   "cell_type": "markdown",
   "metadata": {},
   "source": [
    "## Model Creation: Transfer Learning with EfficientNetV2M\n",
    "\n",
    "### 1. **Base Model**\n",
    "- **Model**: EfficientNetV2M.\n",
    "- **Weights**: Pretrained on ImageNet.\n",
    "- **Input Shape**: `(520, 520, 3)`.\n",
    "- **Include Top**: False (to exclude the classification head for customization).\n",
    "\n",
    "### 2. **Layer Freezing**\n",
    "- Freeze all layers except the last 50 for transfer learning.\n",
    "\n",
    "### 3. **Custom Model Architecture**\n",
    "- **Base Layers**: \n",
    "  - Use EfficientNetV2M as the backbone for feature extraction.\n",
    "  - Add a `GlobalAveragePooling2D` layer to aggregate features spatially.\n",
    "- **Fully Connected Layers**:\n",
    "  - Include multiple dense layers with **activation functions**:\n",
    "    - `SELU` for self-normalizing activation.\n",
    "    - `ReLU` for non-linearity.\n",
    "  - **Regularization**:\n",
    "    - Apply L2 regularization to dense layers to reduce overfitting.\n",
    "    - Add `BatchNormalization` after each dense layer for stable training.\n",
    "  - **Dropout**:\n",
    "    - Use 50% dropout for regularization between layers.\n",
    "- **Output Layer**:\n",
    "  - A dense layer with `softmax` activation to output probabilities for `num_classes = 3`.\n",
    "\n",
    "### 4. **Callbacks**\n",
    "- **EarlyStopping**: Stops training when validation performance stops improving for 8 epochs, restoring the best weights.\n",
    "- **ReduceLROnPlateau**: Reduces learning rate by a factor of 0.5 if validation loss does not improve for 2 epochs (minimum learning rate: `1e-6`).\n"
   ]
  },
  {
   "cell_type": "code",
   "execution_count": null,
   "metadata": {},
   "outputs": [],
   "source": [
    "# Sınıf sayısını tanımlayın\n",
    "num_classes = 3  # Sınıfların sayısını belirtin\n",
    "\n",
    "# EfficientNetV2M modelini yükle\n",
    "base_model = tf.keras.applications.EfficientNetV2M(\n",
    "    include_top=False,  # Sınıflandırma katmanını çıkar\n",
    "    weights='imagenet',  # Önceden eğitilmiş ağırlıkları kullan\n",
    "    input_shape=(520, 520, 3)  # Giriş boyutu\n",
    ")\n",
    "\n",
    "# Katmanları dondurmak (transfer learning için)\n",
    "base_model.trainable = True\n",
    "for layer in base_model.layers[:-50]:\n",
    "    layer.trainable = False\n",
    "\n",
    "# Modeli oluştur\n",
    "model = keras.Sequential([\n",
    "    base_model,\n",
    "    layers.GlobalAveragePooling2D(),\n",
    "    layers.BatchNormalization(),\n",
    "\n",
    "    layers.Dense(256, activation='selu', kernel_regularizer=regularizers.l2(0.01)),\n",
    "    layers.BatchNormalization(),\n",
    "\n",
    "    layers.Dropout(0.5),\n",
    "    layers.Dense(128, activation='relu', kernel_regularizer=regularizers.l2(0.01)),\n",
    "    layers.BatchNormalization(),\n",
    "\n",
    "    layers.Dropout(0.5),\n",
    "    layers.Dense(128, activation='relu', kernel_regularizer=regularizers.l2(0.01)),\n",
    "    layers.BatchNormalization(),\n",
    "\n",
    "    layers.Dropout(0.5),\n",
    "    layers.Dense(64, activation='relu', kernel_regularizer=regularizers.l2(0.01)),\n",
    "    layers.BatchNormalization(),\n",
    "\n",
    "    layers.Dropout(0.5),\n",
    "    layers.Dense(32, activation='relu', kernel_regularizer=regularizers.l2(0.01)),\n",
    "    layers.BatchNormalization(),\n",
    "    \n",
    "    layers.Dense(num_classes, activation='softmax')  # Çıkış Katmanı\n",
    "])\n",
    "\n",
    "# Callbackler\n",
    "early_stopping = EarlyStopping(patience=8, restore_best_weights=True)\n",
    "reduce_lr = ReduceLROnPlateau(monitor='val_loss', factor=0.5, patience=2, min_lr=1e-6)"
   ]
  },
  {
   "cell_type": "markdown",
   "metadata": {},
   "source": [
    "## Model Compilation\n",
    "\n",
    "- **Optimizer**: `Adam` optimizer.\n",
    "  - This optimizer adapts the learning rate based on the moving average of past gradients, making it suitable for complex and noisy data.\n",
    "- **Loss Function**: `'categorical_crossentropy'`.\n",
    "  - Used for multi-class classification problems. This loss function measures the dissimilarity between the predicted probabilities and the actual labels.\n",
    "- **Metrics**:\n",
    "  - `'accuracy'`: Monitor the model's classification performance during training and validation.\n"
   ]
  },
  {
   "cell_type": "code",
   "execution_count": null,
   "metadata": {},
   "outputs": [],
   "source": [
    "# Modeli derleme\n",
    "model.compile(\n",
    "    optimizer=keras.optimizers.Adam(),\n",
    "    loss='categorical_crossentropy',\n",
    "    metrics=['accuracy']\n",
    ")"
   ]
  },
  {
   "cell_type": "markdown",
   "metadata": {},
   "source": [
    "## Model Training\n",
    "\n",
    "### 1. **Training the Model**\n",
    "- **Dataset**: \n",
    "  - `train_dataset`: Augmented training dataset with batch processing.\n",
    "  - `val_dataset`: Validation dataset.\n",
    "- **Epochs**: 10000 epochs are set for training. This number can be reduced based on validation performance.\n",
    "- **Callbacks**:\n",
    "  - `early_stopping`: Stops training if the validation loss does not improve for 8 epochs, restoring the best weights.\n",
    "  - `reduce_lr`: Reduces learning rate by half if the validation loss does not improve for 2 epochs, helping the model converge faster.\n",
    "\n",
    "### 2. **Predictions**\n",
    "- After training, the model can be used to make predictions on the validation set.\n",
    "- **Predictions**: Get the predicted probabilities for each class.\n",
    "- **Post-processing**: Use the `label_encoder` to convert the predicted integer labels back to their original string labels.\n"
   ]
  },
  {
   "cell_type": "code",
   "execution_count": 7,
   "metadata": {
    "execution": {
     "iopub.execute_input": "2024-12-15T14:18:55.522268Z",
     "iopub.status.busy": "2024-12-15T14:18:55.521974Z",
     "iopub.status.idle": "2024-12-15T15:29:05.974560Z",
     "shell.execute_reply": "2024-12-15T15:29:05.973808Z",
     "shell.execute_reply.started": "2024-12-15T14:18:55.522241Z"
    },
    "trusted": true
   },
   "outputs": [
    {
     "name": "stdout",
     "output_type": "stream",
     "text": [
      "Downloading data from https://storage.googleapis.com/tensorflow/keras-applications/efficientnet_v2/efficientnetv2-m_notop.h5\n",
      "\u001b[1m214201816/214201816\u001b[0m \u001b[32m━━━━━━━━━━━━━━━━━━━━\u001b[0m\u001b[37m\u001b[0m \u001b[1m1s\u001b[0m 0us/step\n",
      "Epoch 1/10000\n"
     ]
    },
    {
     "name": "stderr",
     "output_type": "stream",
     "text": [
      "WARNING: All log messages before absl::InitializeLog() is called are written to STDERR\n",
      "I0000 00:00:1734272380.027674      70 service.cc:145] XLA service 0x7f6e54002d40 initialized for platform CUDA (this does not guarantee that XLA will be used). Devices:\n",
      "I0000 00:00:1734272380.027747      70 service.cc:153]   StreamExecutor device (0): Tesla P100-PCIE-16GB, Compute Capability 6.0\n",
      "I0000 00:00:1734272517.580978      70 device_compiler.h:188] Compiled cluster using XLA!  This line is logged at most once for the lifetime of the process.\n"
     ]
    },
    {
     "name": "stdout",
     "output_type": "stream",
     "text": [
      "\u001b[1m88/88\u001b[0m \u001b[32m━━━━━━━━━━━━━━━━━━━━\u001b[0m\u001b[37m\u001b[0m \u001b[1m436s\u001b[0m 3s/step - accuracy: 0.3536 - loss: 9.4274 - val_accuracy: 0.4950 - val_loss: 7.2914 - learning_rate: 0.0010\n",
      "Epoch 2/10000\n",
      "\u001b[1m88/88\u001b[0m \u001b[32m━━━━━━━━━━━━━━━━━━━━\u001b[0m\u001b[37m\u001b[0m \u001b[1m98s\u001b[0m 1s/step - accuracy: 0.4837 - loss: 6.7061 - val_accuracy: 0.7829 - val_loss: 4.8136 - learning_rate: 0.0010\n",
      "Epoch 3/10000\n",
      "\u001b[1m88/88\u001b[0m \u001b[32m━━━━━━━━━━━━━━━━━━━━\u001b[0m\u001b[37m\u001b[0m \u001b[1m98s\u001b[0m 1s/step - accuracy: 0.7157 - loss: 4.4327 - val_accuracy: 0.8557 - val_loss: 3.1828 - learning_rate: 0.0010\n",
      "Epoch 4/10000\n",
      "\u001b[1m88/88\u001b[0m \u001b[32m━━━━━━━━━━━━━━━━━━━━\u001b[0m\u001b[37m\u001b[0m \u001b[1m98s\u001b[0m 1s/step - accuracy: 0.8166 - loss: 2.9611 - val_accuracy: 0.8786 - val_loss: 2.1849 - learning_rate: 0.0010\n",
      "Epoch 5/10000\n",
      "\u001b[1m88/88\u001b[0m \u001b[32m━━━━━━━━━━━━━━━━━━━━\u001b[0m\u001b[37m\u001b[0m \u001b[1m98s\u001b[0m 1s/step - accuracy: 0.8475 - loss: 2.0875 - val_accuracy: 0.8793 - val_loss: 1.5918 - learning_rate: 0.0010\n",
      "Epoch 6/10000\n",
      "\u001b[1m88/88\u001b[0m \u001b[32m━━━━━━━━━━━━━━━━━━━━\u001b[0m\u001b[37m\u001b[0m \u001b[1m98s\u001b[0m 1s/step - accuracy: 0.8627 - loss: 1.5039 - val_accuracy: 0.8786 - val_loss: 1.2043 - learning_rate: 0.0010\n",
      "Epoch 7/10000\n",
      "\u001b[1m88/88\u001b[0m \u001b[32m━━━━━━━━━━━━━━━━━━━━\u001b[0m\u001b[37m\u001b[0m \u001b[1m98s\u001b[0m 1s/step - accuracy: 0.8916 - loss: 1.1086 - val_accuracy: 0.9021 - val_loss: 0.8717 - learning_rate: 0.0010\n",
      "Epoch 8/10000\n",
      "\u001b[1m88/88\u001b[0m \u001b[32m━━━━━━━━━━━━━━━━━━━━\u001b[0m\u001b[37m\u001b[0m \u001b[1m98s\u001b[0m 1s/step - accuracy: 0.8982 - loss: 0.8336 - val_accuracy: 0.9057 - val_loss: 0.6828 - learning_rate: 0.0010\n",
      "Epoch 9/10000\n",
      "\u001b[1m88/88\u001b[0m \u001b[32m━━━━━━━━━━━━━━━━━━━━\u001b[0m\u001b[37m\u001b[0m \u001b[1m98s\u001b[0m 1s/step - accuracy: 0.9083 - loss: 0.6448 - val_accuracy: 0.9000 - val_loss: 0.5786 - learning_rate: 0.0010\n",
      "Epoch 10/10000\n",
      "\u001b[1m88/88\u001b[0m \u001b[32m━━━━━━━━━━━━━━━━━━━━\u001b[0m\u001b[37m\u001b[0m \u001b[1m98s\u001b[0m 1s/step - accuracy: 0.9013 - loss: 0.5580 - val_accuracy: 0.9007 - val_loss: 0.5044 - learning_rate: 0.0010\n",
      "Epoch 11/10000\n",
      "\u001b[1m88/88\u001b[0m \u001b[32m━━━━━━━━━━━━━━━━━━━━\u001b[0m\u001b[37m\u001b[0m \u001b[1m98s\u001b[0m 1s/step - accuracy: 0.9158 - loss: 0.4529 - val_accuracy: 0.9064 - val_loss: 0.4361 - learning_rate: 0.0010\n",
      "Epoch 12/10000\n",
      "\u001b[1m88/88\u001b[0m \u001b[32m━━━━━━━━━━━━━━━━━━━━\u001b[0m\u001b[37m\u001b[0m \u001b[1m98s\u001b[0m 1s/step - accuracy: 0.9182 - loss: 0.4079 - val_accuracy: 0.9129 - val_loss: 0.3853 - learning_rate: 0.0010\n",
      "Epoch 13/10000\n",
      "\u001b[1m88/88\u001b[0m \u001b[32m━━━━━━━━━━━━━━━━━━━━\u001b[0m\u001b[37m\u001b[0m \u001b[1m98s\u001b[0m 1s/step - accuracy: 0.9323 - loss: 0.3345 - val_accuracy: 0.9136 - val_loss: 0.3750 - learning_rate: 0.0010\n",
      "Epoch 14/10000\n",
      "\u001b[1m88/88\u001b[0m \u001b[32m━━━━━━━━━━━━━━━━━━━━\u001b[0m\u001b[37m\u001b[0m \u001b[1m98s\u001b[0m 1s/step - accuracy: 0.9376 - loss: 0.3122 - val_accuracy: 0.9264 - val_loss: 0.3105 - learning_rate: 0.0010\n",
      "Epoch 15/10000\n",
      "\u001b[1m88/88\u001b[0m \u001b[32m━━━━━━━━━━━━━━━━━━━━\u001b[0m\u001b[37m\u001b[0m \u001b[1m98s\u001b[0m 1s/step - accuracy: 0.9341 - loss: 0.3054 - val_accuracy: 0.9207 - val_loss: 0.3490 - learning_rate: 0.0010\n",
      "Epoch 16/10000\n",
      "\u001b[1m88/88\u001b[0m \u001b[32m━━━━━━━━━━━━━━━━━━━━\u001b[0m\u001b[37m\u001b[0m \u001b[1m98s\u001b[0m 1s/step - accuracy: 0.9372 - loss: 0.2754 - val_accuracy: 0.9264 - val_loss: 0.3418 - learning_rate: 0.0010\n",
      "Epoch 17/10000\n",
      "\u001b[1m88/88\u001b[0m \u001b[32m━━━━━━━━━━━━━━━━━━━━\u001b[0m\u001b[37m\u001b[0m \u001b[1m98s\u001b[0m 1s/step - accuracy: 0.9467 - loss: 0.2554 - val_accuracy: 0.9286 - val_loss: 0.2986 - learning_rate: 5.0000e-04\n",
      "Epoch 18/10000\n",
      "\u001b[1m88/88\u001b[0m \u001b[32m━━━━━━━━━━━━━━━━━━━━\u001b[0m\u001b[37m\u001b[0m \u001b[1m98s\u001b[0m 1s/step - accuracy: 0.9678 - loss: 0.1801 - val_accuracy: 0.9293 - val_loss: 0.2931 - learning_rate: 5.0000e-04\n",
      "Epoch 19/10000\n",
      "\u001b[1m88/88\u001b[0m \u001b[32m━━━━━━━━━━━━━━━━━━━━\u001b[0m\u001b[37m\u001b[0m \u001b[1m98s\u001b[0m 1s/step - accuracy: 0.9583 - loss: 0.2009 - val_accuracy: 0.9336 - val_loss: 0.2587 - learning_rate: 5.0000e-04\n",
      "Epoch 20/10000\n",
      "\u001b[1m88/88\u001b[0m \u001b[32m━━━━━━━━━━━━━━━━━━━━\u001b[0m\u001b[37m\u001b[0m \u001b[1m98s\u001b[0m 1s/step - accuracy: 0.9629 - loss: 0.1816 - val_accuracy: 0.9314 - val_loss: 0.2561 - learning_rate: 5.0000e-04\n",
      "Epoch 21/10000\n",
      "\u001b[1m88/88\u001b[0m \u001b[32m━━━━━━━━━━━━━━━━━━━━\u001b[0m\u001b[37m\u001b[0m \u001b[1m98s\u001b[0m 1s/step - accuracy: 0.9620 - loss: 0.1673 - val_accuracy: 0.9286 - val_loss: 0.2638 - learning_rate: 5.0000e-04\n",
      "Epoch 22/10000\n",
      "\u001b[1m88/88\u001b[0m \u001b[32m━━━━━━━━━━━━━━━━━━━━\u001b[0m\u001b[37m\u001b[0m \u001b[1m98s\u001b[0m 1s/step - accuracy: 0.9624 - loss: 0.1762 - val_accuracy: 0.9386 - val_loss: 0.2770 - learning_rate: 5.0000e-04\n",
      "Epoch 23/10000\n",
      "\u001b[1m88/88\u001b[0m \u001b[32m━━━━━━━━━━━━━━━━━━━━\u001b[0m\u001b[37m\u001b[0m \u001b[1m98s\u001b[0m 1s/step - accuracy: 0.9734 - loss: 0.1356 - val_accuracy: 0.9379 - val_loss: 0.2289 - learning_rate: 2.5000e-04\n",
      "Epoch 24/10000\n",
      "\u001b[1m88/88\u001b[0m \u001b[32m━━━━━━━━━━━━━━━━━━━━\u001b[0m\u001b[37m\u001b[0m \u001b[1m98s\u001b[0m 1s/step - accuracy: 0.9759 - loss: 0.1236 - val_accuracy: 0.9443 - val_loss: 0.2235 - learning_rate: 2.5000e-04\n",
      "Epoch 25/10000\n",
      "\u001b[1m88/88\u001b[0m \u001b[32m━━━━━━━━━━━━━━━━━━━━\u001b[0m\u001b[37m\u001b[0m \u001b[1m98s\u001b[0m 1s/step - accuracy: 0.9774 - loss: 0.1113 - val_accuracy: 0.9357 - val_loss: 0.2403 - learning_rate: 2.5000e-04\n",
      "Epoch 26/10000\n",
      "\u001b[1m88/88\u001b[0m \u001b[32m━━━━━━━━━━━━━━━━━━━━\u001b[0m\u001b[37m\u001b[0m \u001b[1m98s\u001b[0m 1s/step - accuracy: 0.9731 - loss: 0.1305 - val_accuracy: 0.9414 - val_loss: 0.2352 - learning_rate: 2.5000e-04\n",
      "Epoch 27/10000\n",
      "\u001b[1m88/88\u001b[0m \u001b[32m━━━━━━━━━━━━━━━━━━━━\u001b[0m\u001b[37m\u001b[0m \u001b[1m98s\u001b[0m 1s/step - accuracy: 0.9728 - loss: 0.1230 - val_accuracy: 0.9457 - val_loss: 0.2199 - learning_rate: 1.2500e-04\n",
      "Epoch 28/10000\n",
      "\u001b[1m88/88\u001b[0m \u001b[32m━━━━━━━━━━━━━━━━━━━━\u001b[0m\u001b[37m\u001b[0m \u001b[1m98s\u001b[0m 1s/step - accuracy: 0.9812 - loss: 0.0968 - val_accuracy: 0.9457 - val_loss: 0.2158 - learning_rate: 1.2500e-04\n",
      "Epoch 29/10000\n",
      "\u001b[1m88/88\u001b[0m \u001b[32m━━━━━━━━━━━━━━━━━━━━\u001b[0m\u001b[37m\u001b[0m \u001b[1m98s\u001b[0m 1s/step - accuracy: 0.9848 - loss: 0.0833 - val_accuracy: 0.9464 - val_loss: 0.2207 - learning_rate: 1.2500e-04\n",
      "Epoch 30/10000\n",
      "\u001b[1m88/88\u001b[0m \u001b[32m━━━━━━━━━━━━━━━━━━━━\u001b[0m\u001b[37m\u001b[0m \u001b[1m98s\u001b[0m 1s/step - accuracy: 0.9853 - loss: 0.0844 - val_accuracy: 0.9471 - val_loss: 0.2116 - learning_rate: 1.2500e-04\n",
      "Epoch 31/10000\n",
      "\u001b[1m88/88\u001b[0m \u001b[32m━━━━━━━━━━━━━━━━━━━━\u001b[0m\u001b[37m\u001b[0m \u001b[1m98s\u001b[0m 1s/step - accuracy: 0.9857 - loss: 0.0750 - val_accuracy: 0.9457 - val_loss: 0.2108 - learning_rate: 1.2500e-04\n",
      "Epoch 32/10000\n",
      "\u001b[1m88/88\u001b[0m \u001b[32m━━━━━━━━━━━━━━━━━━━━\u001b[0m\u001b[37m\u001b[0m \u001b[1m98s\u001b[0m 1s/step - accuracy: 0.9798 - loss: 0.0866 - val_accuracy: 0.9457 - val_loss: 0.2292 - learning_rate: 1.2500e-04\n",
      "Epoch 33/10000\n",
      "\u001b[1m88/88\u001b[0m \u001b[32m━━━━━━━━━━━━━━━━━━━━\u001b[0m\u001b[37m\u001b[0m \u001b[1m98s\u001b[0m 1s/step - accuracy: 0.9882 - loss: 0.0692 - val_accuracy: 0.9393 - val_loss: 0.2360 - learning_rate: 1.2500e-04\n",
      "Epoch 34/10000\n",
      "\u001b[1m88/88\u001b[0m \u001b[32m━━━━━━━━━━━━━━━━━━━━\u001b[0m\u001b[37m\u001b[0m \u001b[1m98s\u001b[0m 1s/step - accuracy: 0.9865 - loss: 0.0809 - val_accuracy: 0.9414 - val_loss: 0.2270 - learning_rate: 6.2500e-05\n",
      "Epoch 35/10000\n",
      "\u001b[1m88/88\u001b[0m \u001b[32m━━━━━━━━━━━━━━━━━━━━\u001b[0m\u001b[37m\u001b[0m \u001b[1m98s\u001b[0m 1s/step - accuracy: 0.9846 - loss: 0.0738 - val_accuracy: 0.9429 - val_loss: 0.2200 - learning_rate: 6.2500e-05\n",
      "Epoch 36/10000\n",
      "\u001b[1m88/88\u001b[0m \u001b[32m━━━━━━━━━━━━━━━━━━━━\u001b[0m\u001b[37m\u001b[0m \u001b[1m98s\u001b[0m 1s/step - accuracy: 0.9856 - loss: 0.0771 - val_accuracy: 0.9464 - val_loss: 0.2184 - learning_rate: 3.1250e-05\n",
      "Epoch 37/10000\n",
      "\u001b[1m88/88\u001b[0m \u001b[32m━━━━━━━━━━━━━━━━━━━━\u001b[0m\u001b[37m\u001b[0m \u001b[1m98s\u001b[0m 1s/step - accuracy: 0.9830 - loss: 0.0781 - val_accuracy: 0.9421 - val_loss: 0.2174 - learning_rate: 3.1250e-05\n",
      "Epoch 38/10000\n",
      "\u001b[1m88/88\u001b[0m \u001b[32m━━━━━━━━━━━━━━━━━━━━\u001b[0m\u001b[37m\u001b[0m \u001b[1m98s\u001b[0m 1s/step - accuracy: 0.9913 - loss: 0.0551 - val_accuracy: 0.9464 - val_loss: 0.2157 - learning_rate: 1.5625e-05\n",
      "Epoch 39/10000\n",
      "\u001b[1m88/88\u001b[0m \u001b[32m━━━━━━━━━━━━━━━━━━━━\u001b[0m\u001b[37m\u001b[0m \u001b[1m98s\u001b[0m 1s/step - accuracy: 0.9900 - loss: 0.0552 - val_accuracy: 0.9450 - val_loss: 0.2216 - learning_rate: 1.5625e-05\n",
      "\u001b[1m22/22\u001b[0m \u001b[32m━━━━━━━━━━━━━━━━━━━━\u001b[0m\u001b[37m\u001b[0m \u001b[1m37s\u001b[0m 1s/step \n"
     ]
    }
   ],
   "source": [
    "# Modeli eğitme\n",
    "history = model.fit(\n",
    "    train_dataset,  # Augment edilmiş eğitim verileri\n",
    "    validation_data=val_dataset,  # Doğrulama verileri\n",
    "    epochs=10000,\n",
    "    callbacks=[early_stopping, reduce_lr]\n",
    ")\n",
    "\n",
    "# Tahmin (Opsiyonel)\n",
    "predictions = model.predict(val_dataset)\n",
    "predicted_labels = label_encoder.inverse_transform(np.argmax(predictions, axis=1))\n"
   ]
  },
  {
   "cell_type": "markdown",
   "metadata": {},
   "source": [
    "## Plotting Training and Validation Metrics\n",
    "\n",
    "This section plots the training and validation loss, as well as the accuracy during model training.\n",
    "\n",
    "### 1. **Training and Validation Loss**\n",
    "- **Plot**:\n",
    "  - `history.history['loss']`: Training loss over epochs.\n",
    "  - `history.history['val_loss']`: Validation loss over epochs.\n",
    "- **Visualization**:\n",
    "  - The graph shows the model's loss on both training and validation sets across epochs. A decrease in loss indicates model improvement.\n",
    "  \n",
    "### 2. **Training and Validation Accuracy**\n",
    "- **Plot**:\n",
    "  - `history.history['accuracy']`: Training accuracy over epochs.\n",
    "  - `history.history['val_accuracy']`: Validation accuracy over epochs.\n",
    "- **Visualization**:\n",
    "  - The graph shows the model's accuracy on both training and validation sets across epochs. An increase in accuracy indicates that the model is learning to classify better.\n",
    "  \n",
    "### 3. **Layout Adjustment**\n",
    "- `plt.tight_layout()`: Adjusts the layout to ensure that the plots are not overlapping.\n",
    "- `plt.show()`: Displays the graphs.\n"
   ]
  },
  {
   "cell_type": "code",
   "execution_count": 9,
   "metadata": {
    "execution": {
     "iopub.execute_input": "2024-12-15T15:43:52.548313Z",
     "iopub.status.busy": "2024-12-15T15:43:52.547474Z",
     "iopub.status.idle": "2024-12-15T15:43:53.109456Z",
     "shell.execute_reply": "2024-12-15T15:43:53.108704Z",
     "shell.execute_reply.started": "2024-12-15T15:43:52.548278Z"
    },
    "trusted": true
   },
   "outputs": [
    {
     "data": {
      "image/png": "[encoded data removed]",
      "text/plain": [
       "<Figure size 1200x600 with 2 Axes>"
      ]
     },
     "metadata": {},
     "output_type": "display_data"
    }
   ],
   "source": [
    "\n",
    "# Eğitim ve doğrulama kaybını çiz\n",
    "plt.figure(figsize=(12, 6))\n",
    "\n",
    "# Eğitim kaybı grafiği\n",
    "plt.subplot(2, 2, 1)\n",
    "plt.plot(history.history['loss'], label='Eğitim Kaybı')\n",
    "plt.plot(history.history['val_loss'], label='Doğrulama Kaybı')\n",
    "plt.title('Eğitim ve Doğrulama Kaybı')\n",
    "plt.ylabel('Kaybı')\n",
    "plt.xlabel('Epoch')\n",
    "plt.legend()\n",
    "\n",
    "# Eğitim doğruluğu grafiği\n",
    "plt.subplot(2, 2, 2)\n",
    "plt.plot(history.history['accuracy'], label='Eğitim Doğruluğu')\n",
    "plt.plot(history.history['val_accuracy'], label='Doğrulama Doğruluğu')\n",
    "plt.title('Eğitim ve Doğrulama Doğruluğu')\n",
    "plt.ylabel('Doğruluk')\n",
    "plt.xlabel('Epoch')\n",
    "plt.legend()\n",
    "\n",
    "# Grafik alanını düzenle\n",
    "plt.tight_layout()\n",
    "plt.show()\n"
   ]
  },
  {
   "cell_type": "markdown",
   "metadata": {},
   "source": [
    "## Loading and Preprocessing Test Data\n",
    "\n",
    "### 1. **Test Data Path**\n",
    "- The path to the test data is specified as `/kaggle/input/datathon-ai-qualification-round/test.csv`.\n",
    "  \n",
    "### 2. **Loading Test Data**\n",
    "- `test_data = pd.read_csv(test_data_path)`: Reads the test data from a CSV file into a pandas DataFrame.\n",
    "- Iterates through each row to construct the file paths for images based on the filenames listed in the CSV.\n",
    "\n",
    "### 3. **Processing Each Image**\n",
    "- For each image, its path is constructed and checked if the file exists:\n",
    "  - If not, a warning is printed indicating the file is missing.\n",
    "  - If the file exists, the image is read using `cv2.imread()`.\n",
    "- If the image is read successfully:\n",
    "  - It is resized to a standard size of `(520, 520)`.\n",
    "  - The processed image is added to the list of images.\n",
    "  - The corresponding label (city) is added to the labels list.\n",
    "\n",
    "### 4. **Converting Lists to Numpy Arrays**\n",
    "- `test_images = np.array(images)`: Converts the list of images to a numpy array.\n",
    "- `test_labels = np.array(labels)`: Converts the list of labels to a numpy array.\n"
   ]
  },
  {
   "cell_type": "code",
   "execution_count": 10,
   "metadata": {
    "execution": {
     "iopub.execute_input": "2024-12-15T15:44:04.592844Z",
     "iopub.status.busy": "2024-12-15T15:44:04.592472Z",
     "iopub.status.idle": "2024-12-15T15:44:24.876338Z",
     "shell.execute_reply": "2024-12-15T15:44:24.875357Z",
     "shell.execute_reply.started": "2024-12-15T15:44:04.592813Z"
    },
    "trusted": true
   },
   "outputs": [],
   "source": [
    "# Test verisi yolunu belirtin\n",
    "test_data_path = \"/kaggle/input/datathon-ai-qualification-round/test.csv\"\n",
    "\n",
    "# Test verilerini yükleyin\n",
    "test_data = pd.read_csv(test_data_path)\n",
    "\n",
    "images = []\n",
    "labels = []\n",
    "\n",
    "# Test setindeki her bir dosya yolunu ve etiketini işleyin\n",
    "for index, row in test_data.iterrows():\n",
    "    img_path = os.path.join(\"/kaggle/input/datathon-ai-qualification-round/test/test\", row['filename'])\n",
    "    \n",
    "    # Dosyanın var olup olmadığını kontrol edin\n",
    "    if not os.path.exists(img_path):\n",
    "        print(f\"Dosya bulunamadı: {img_path}\")  # Dosya bulunamadı uyarısı\n",
    "    else:\n",
    "        img = cv2.imread(img_path)\n",
    "        \n",
    "        # Resim başarılı bir şekilde okundu mu kontrol edin\n",
    "        if img is None:\n",
    "            print(f\"Resim açılamadı: {img_path}\")  # Resim açılamadı uyarısı\n",
    "        else:\n",
    "            # Görüntüyü yeniden boyutlandırın\n",
    "            img = cv2.resize(img, (520, 520))\n",
    "            images.append(img)\n",
    "            labels.append(row['city'])\n",
    "\n",
    "# Görüntü ve etiketleri numpy array'lerine dönüştürün\n",
    "test_images = np.array(images)\n",
    "test_labels = np.array(labels)\n"
   ]
  },
  {
   "cell_type": "markdown",
   "metadata": {},
   "source": [
    "## Making Predictions\n",
    "\n",
    "### 1. **Predicting with the Model**\n",
    "- `predictions = model.predict(test_images)`: Uses the trained model to make predictions on the test images. This returns a list of predicted probabilities for each class.\n",
    "\n",
    "### 2. **Classifying Predictions**\n",
    "- `predicted_labels = np.argmax(predictions, axis=1)`: This function returns the index of the maximum value for each prediction, which corresponds to the predicted class. It is used to classify each image into one of the available classes (Istanbul, Izmir, or Ankara).\n"
   ]
  },
  {
   "cell_type": "code",
   "execution_count": 11,
   "metadata": {
    "execution": {
     "iopub.execute_input": "2024-12-15T15:44:32.185937Z",
     "iopub.status.busy": "2024-12-15T15:44:32.185250Z",
     "iopub.status.idle": "2024-12-15T15:45:27.183409Z",
     "shell.execute_reply": "2024-12-15T15:45:27.182695Z",
     "shell.execute_reply.started": "2024-12-15T15:44:32.185898Z"
    },
    "trusted": true
   },
   "outputs": [
    {
     "name": "stdout",
     "output_type": "stream",
     "text": [
      "\u001b[1m63/63\u001b[0m \u001b[32m━━━━━━━━━━━━━━━━━━━━\u001b[0m\u001b[37m\u001b[0m \u001b[1m51s\u001b[0m 641ms/step\n"
     ]
    }
   ],
   "source": [
    "# Tahmin\n",
    "predictions = model.predict(test_images)\n",
    "\n",
    "# Tahminleri sınıflandırmak için argmax kullanabilirsiniz (örneğin, en yüksek olasılıklı sınıfı alır)\n",
    "predicted_labels = np.argmax(predictions, axis=1)"
   ]
  },
  {
   "cell_type": "markdown",
   "metadata": {},
   "source": [
    "## Class Names Mapping\n",
    "\n",
    "### 1. **Class Names**\n",
    "- `class_names = ['Ankara', 'Istanbul', 'Izmir']`: Defines the list of class names corresponding to each city.\n",
    "\n",
    "### 2. **Class Mapping**\n",
    "- `class_mapping = {i: name for i, name in enumerate(class_names)}`: Creates a mapping from class indices to class names. For example, index 0 corresponds to 'Ankara', index 1 to 'Istanbul', and index 2 to 'Izmir'.\n",
    "\n",
    "### 3. **Translate Predictions**\n",
    "- `predicted_classes = [class_mapping[label] for label in predicted_labels]`: Converts the predicted class indices into corresponding class names.\n",
    "- `predicted_classes[:5]`: Shows the first five predictions as class names.\n"
   ]
  },
  {
   "cell_type": "code",
   "execution_count": null,
   "metadata": {
    "execution": {
     "iopub.execute_input": "2024-12-15T15:45:29.172247Z",
     "iopub.status.busy": "2024-12-15T15:45:29.171898Z",
     "iopub.status.idle": "2024-12-15T15:45:29.176620Z",
     "shell.execute_reply": "2024-12-15T15:45:29.175673Z",
     "shell.execute_reply.started": "2024-12-15T15:45:29.172213Z"
    },
    "trusted": true
   },
   "outputs": [],
   "source": [
    "# Sınıf isimleri\n",
    "class_names = ['Ankara', 'Istanbul', 'Izmir']\n",
    "\n",
    "# Sınıf haritası\n",
    "class_mapping = {i: name for i, name in enumerate(class_names)}\n",
    "\n",
    "# Tahminleri sınıf isimlerine çevirin\n",
    "predicted_classes = [class_mapping[label] for label in predicted_labels]\n",
    "predicted_classes[:5]"
   ]
  },
  {
   "cell_type": "markdown",
   "metadata": {},
   "source": [
    "## Creating the Submission DataFrame\n",
    "\n",
    "### 1. **Filename Column**\n",
    "- `submission_df['filename'] = test_data['filename']`: Extracts the 'filename' column from the test dataset. This column contains the file names corresponding to each test image.\n",
    "\n",
    "### 2. **Predicted City Column**\n",
    "- `submission_df['city'] = predicted_classes`: Uses the predicted classes to populate the 'city' column in the DataFrame. Each entry corresponds to the predicted city for the corresponding image in the 'filename' column.\n",
    "\n",
    "### 3. **Final DataFrame**\n",
    "- `submission_df`: The resulting DataFrame that can be used for submission to the competition, containing both the image filenames and their corresponding predicted cities.\n"
   ]
  },
  {
   "cell_type": "code",
   "execution_count": 15,
   "metadata": {
    "execution": {
     "iopub.execute_input": "2024-12-15T15:45:38.885091Z",
     "iopub.status.busy": "2024-12-15T15:45:38.884738Z",
     "iopub.status.idle": "2024-12-15T15:45:38.890452Z",
     "shell.execute_reply": "2024-12-15T15:45:38.889607Z",
     "shell.execute_reply.started": "2024-12-15T15:45:38.885059Z"
    },
    "trusted": true
   },
   "outputs": [],
   "source": [
    "# DataFrame oluşturma\n",
    "submission_df = pd.DataFrame({\n",
    "    'filename': test_data['filename'],  # Test verilerinin filename sütununu al\n",
    "    'city': predicted_classes  # Tahmin edilen şehirleri kullan\n",
    "})\n"
   ]
  },
  {
   "cell_type": "markdown",
   "metadata": {},
   "source": [
    "### Saving the Submission File\n",
    "\n",
    "1. **Path Definition**:\n",
    "   - `submission_path = '/kaggle/working/submission.csv'`: Defines the file path where the submission CSV will be saved. It is located in the `/kaggle/working/` directory.\n",
    "\n",
    "2. **Saving the DataFrame**:\n",
    "   - `submission_df.to_csv(submission_path, index=False)`: Writes the `submission_df` DataFrame to a CSV file at the specified path. The `index=False` parameter ensures that the DataFrame index is not written to the CSV file.\n",
    "\n",
    "3. **Confirmation**:\n",
    "   - `print(f\"Submission dosyası başarıyla oluşturuldu: {submission_path}\")`: Prints a confirmation message with the path of the saved submission file.\n"
   ]
  },
  {
   "cell_type": "code",
   "execution_count": 16,
   "metadata": {
    "execution": {
     "iopub.execute_input": "2024-12-15T15:45:41.607482Z",
     "iopub.status.busy": "2024-12-15T15:45:41.606299Z",
     "iopub.status.idle": "2024-12-15T15:45:41.617375Z",
     "shell.execute_reply": "2024-12-15T15:45:41.616576Z",
     "shell.execute_reply.started": "2024-12-15T15:45:41.607427Z"
    },
    "trusted": true
   },
   "outputs": [
    {
     "name": "stdout",
     "output_type": "stream",
     "text": [
      "Submission dosyası başarıyla oluşturuldu: /kaggle/working/submission.csv\n"
     ]
    }
   ],
   "source": [
    "# CSV dosyasını /kaggle/working dizinine kaydetme\n",
    "submission_path = '/kaggle/working/submission.csv'\n",
    "submission_df.to_csv(submission_path, index=False)\n",
    "\n",
    "print(f\"Submission dosyası başarıyla oluşturuldu: {submission_path}\")"
   ]
  },
  {
   "cell_type": "markdown",
   "metadata": {},
   "source": [
    "### Importing the Submission File\n",
    "\n",
    "1. **Path Definition**:\n",
    "   - `submission_path = '/kaggle/working/submission.csv'`: Specifies the path to the submission file saved earlier.\n",
    "\n",
    "2. **Loading the CSV File**:\n",
    "   - `submission_df = pd.read_csv(submission_path)`: Reads the submission file into a Pandas DataFrame named `submission_df`.\n",
    "\n",
    "3. **Checking the DataFrame Shape**:\n",
    "   - `submission_df.shape`: Retrieves the shape of the DataFrame, which provides the number of rows and columns in the submission file. This helps to confirm the successful loading of the file.\n"
   ]
  },
  {
   "cell_type": "code",
   "execution_count": 17,
   "metadata": {
    "execution": {
     "iopub.execute_input": "2024-12-15T15:45:45.780429Z",
     "iopub.status.busy": "2024-12-15T15:45:45.780011Z",
     "iopub.status.idle": "2024-12-15T15:45:45.790497Z",
     "shell.execute_reply": "2024-12-15T15:45:45.789615Z",
     "shell.execute_reply.started": "2024-12-15T15:45:45.780385Z"
    },
    "trusted": true
   },
   "outputs": [
    {
     "data": {
      "text/plain": [
       "(2000, 2)"
      ]
     },
     "execution_count": 17,
     "metadata": {},
     "output_type": "execute_result"
    }
   ],
   "source": [
    "\n",
    "# submission.csv dosyasını içe aktarma\n",
    "submission_path = '/kaggle/working/submission.csv'\n",
    "submission_df = pd.read_csv(submission_path) \n",
    "\n",
    "submission_df.shape\n"
   ]
  },
  {
   "cell_type": "code",
   "execution_count": 18,
   "metadata": {
    "execution": {
     "iopub.execute_input": "2024-12-15T15:45:46.492763Z",
     "iopub.status.busy": "2024-12-15T15:45:46.492060Z",
     "iopub.status.idle": "2024-12-15T15:45:46.511954Z",
     "shell.execute_reply": "2024-12-15T15:45:46.510877Z",
     "shell.execute_reply.started": "2024-12-15T15:45:46.492721Z"
    },
    "trusted": true
   },
   "outputs": [
    {
     "data": {
      "text/html": [
       "<div>\n",
       "<style scoped>\n",
       "    .dataframe tbody tr th:only-of-type {\n",
       "        vertical-align: middle;\n",
       "    }\n",
       "\n",
       "    .dataframe tbody tr th {\n",
       "        vertical-align: top;\n",
       "    }\n",
       "\n",
       "    .dataframe thead th {\n",
       "        text-align: right;\n",
       "    }\n",
       "</style>\n",
       "<table border=\"1\" class=\"dataframe\">\n",
       "  <thead>\n",
       "    <tr style=\"text-align: right;\">\n",
       "      <th></th>\n",
       "      <th>filename</th>\n",
       "      <th>city</th>\n",
       "    </tr>\n",
       "  </thead>\n",
       "  <tbody>\n",
       "    <tr>\n",
       "      <th>0</th>\n",
       "      <td>image_17000.jpg</td>\n",
       "      <td>Izmir</td>\n",
       "    </tr>\n",
       "    <tr>\n",
       "      <th>1</th>\n",
       "      <td>image_17001.jpg</td>\n",
       "      <td>Izmir</td>\n",
       "    </tr>\n",
       "    <tr>\n",
       "      <th>2</th>\n",
       "      <td>image_17002.jpg</td>\n",
       "      <td>Istanbul</td>\n",
       "    </tr>\n",
       "    <tr>\n",
       "      <th>3</th>\n",
       "      <td>image_17003.jpg</td>\n",
       "      <td>Istanbul</td>\n",
       "    </tr>\n",
       "    <tr>\n",
       "      <th>4</th>\n",
       "      <td>image_17004.jpg</td>\n",
       "      <td>Izmir</td>\n",
       "    </tr>\n",
       "    <tr>\n",
       "      <th>...</th>\n",
       "      <td>...</td>\n",
       "      <td>...</td>\n",
       "    </tr>\n",
       "    <tr>\n",
       "      <th>1995</th>\n",
       "      <td>image_18995.jpg</td>\n",
       "      <td>Istanbul</td>\n",
       "    </tr>\n",
       "    <tr>\n",
       "      <th>1996</th>\n",
       "      <td>image_18996.jpg</td>\n",
       "      <td>Izmir</td>\n",
       "    </tr>\n",
       "    <tr>\n",
       "      <th>1997</th>\n",
       "      <td>image_18997.jpg</td>\n",
       "      <td>Ankara</td>\n",
       "    </tr>\n",
       "    <tr>\n",
       "      <th>1998</th>\n",
       "      <td>image_18998.jpg</td>\n",
       "      <td>Istanbul</td>\n",
       "    </tr>\n",
       "    <tr>\n",
       "      <th>1999</th>\n",
       "      <td>image_18999.jpg</td>\n",
       "      <td>Ankara</td>\n",
       "    </tr>\n",
       "  </tbody>\n",
       "</table>\n",
       "<p>2000 rows × 2 columns</p>\n",
       "</div>"
      ],
      "text/plain": [
       "             filename      city\n",
       "0     image_17000.jpg     Izmir\n",
       "1     image_17001.jpg     Izmir\n",
       "2     image_17002.jpg  Istanbul\n",
       "3     image_17003.jpg  Istanbul\n",
       "4     image_17004.jpg     Izmir\n",
       "...               ...       ...\n",
       "1995  image_18995.jpg  Istanbul\n",
       "1996  image_18996.jpg     Izmir\n",
       "1997  image_18997.jpg    Ankara\n",
       "1998  image_18998.jpg  Istanbul\n",
       "1999  image_18999.jpg    Ankara\n",
       "\n",
       "[2000 rows x 2 columns]"
      ]
     },
     "execution_count": 18,
     "metadata": {},
     "output_type": "execute_result"
    }
   ],
   "source": [
    "submission_df"
   ]
  }
 ],
 "metadata": {
  "kaggle": {
   "accelerator": "gpu",
   "dataSources": [
    {
     "databundleVersionId": 10477255,
     "sourceId": 90279,
     "sourceType": "competition"
    }
   ],
   "dockerImageVersionId": 30805,
   "isGpuEnabled": true,
   "isInternetEnabled": true,
   "language": "python",
   "sourceType": "notebook"
  },
  "kernelspec": {
   "display_name": "Python 3",
   "language": "python",
   "name": "python3"
  },
  "language_info": {
   "codemirror_mode": {
    "name": "ipython",
    "version": 3
   },
   "file_extension": ".py",
   "mimetype": "text/x-python",
   "name": "python",
   "nbconvert_exporter": "python",
   "pygments_lexer": "ipython3",
   "version": "3.12.7"
  }
 },
 "nbformat": 4,
 "nbformat_minor": 4
}
